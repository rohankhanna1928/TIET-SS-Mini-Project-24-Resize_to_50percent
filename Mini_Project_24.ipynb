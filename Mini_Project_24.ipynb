{
  "nbformat": 4,
  "nbformat_minor": 0,
  "metadata": {
    "colab": {
      "provenance": [],
      "include_colab_link": true
    },
    "kernelspec": {
      "name": "python3",
      "display_name": "Python 3"
    },
    "language_info": {
      "name": "python"
    }
  },
  "cells": [
    {
      "cell_type": "markdown",
      "metadata": {
        "id": "view-in-github",
        "colab_type": "text"
      },
      "source": [
        "<a href=\"https://colab.research.google.com/github/rohankhanna1928/TIET-SS-Mini-Project-24-Resize_to_50percent/blob/main/Mini_Project_24.ipynb\" target=\"_parent\"><img src=\"https://colab.research.google.com/assets/colab-badge.svg\" alt=\"Open In Colab\"/></a>"
      ]
    },
    {
      "cell_type": "code",
      "execution_count": 1,
      "metadata": {
        "colab": {
          "base_uri": "https://localhost:8080/"
        },
        "id": "ocdKvZehQlEK",
        "outputId": "a8db0d02-1eff-4c6d-cdc7-3db770c0726e"
      },
      "outputs": [
        {
          "output_type": "stream",
          "name": "stdout",
          "text": [
            "All images resized to 50% and saved to 'resized_images'\n"
          ]
        }
      ],
      "source": [
        "import cv2\n",
        "import os\n",
        "\n",
        "input_folder = 'input_images'\n",
        "output_folder = 'resized_images'\n",
        "os.makedirs(output_folder, exist_ok=True)\n",
        "\n",
        "for filename in os.listdir(input_folder):\n",
        "    if filename.endswith(('.jpg', '.png', '.jpeg')):\n",
        "        img = cv2.imread(os.path.join(input_folder, filename))\n",
        "        resized_img = cv2.resize(img, (0, 0), fx=0.5, fy=0.5)\n",
        "        cv2.imwrite(os.path.join(output_folder, filename), resized_img)\n",
        "\n",
        "print(\"All images resized to 50% and saved to 'resized_images'\")"
      ]
    }
  ]
}